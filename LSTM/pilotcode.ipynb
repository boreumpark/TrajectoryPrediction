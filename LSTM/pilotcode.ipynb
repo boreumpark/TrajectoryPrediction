{
 "cells": [
  {
   "cell_type": "code",
   "execution_count": 19,
   "id": "43ea71d0",
   "metadata": {},
   "outputs": [],
   "source": [
    "# 환경 구축\n",
    "import torch\n",
    "import torch.nn as nn\n",
    "import torch.nn.functional as F\n",
    "import torchvision.transforms as transforms\n",
    "import torchvision.datasets\n",
    "from torch.autograd import Variable\n",
    "from torch.utils.data import DataLoader\n",
    "from torch.nn import parameter\n",
    "from torch import Tensor\n",
    "import math\n",
    "\n",
    "import matplotlib.pyplot as plt\n",
    "from datetime import datetime\n",
    "import seaborn as sns\n",
    "\n",
    "device = torch.device(\"cuda\" if torch.cuda.is_available() else \"cpu\")\n",
    "cuda = True if torch.cuda.is_available() else False\n",
    "Tensor = torch.cuda.FloatTensor if cuda else torch.FloatTensor\n",
    "\n",
    "#재현성 보장을 위한 시드 설정 (난수 생성의 초기값을 고정)\n",
    "torch.manual_seed(100)\n",
    "\n",
    "if torch.cuda.is_available():\n",
    "    torch.cuda.manual_seed_all(100)"
   ]
  },
  {
   "cell_type": "code",
   "execution_count": null,
   "id": "7e1496dc",
   "metadata": {},
   "outputs": [],
   "source": [
    "# 로그데이터\n",
    "\n",
    "## 데이터 구성 방식\n",
    "# 타임스탬프:N, 각 시점 x,y,z & 속도 (vx, vy, vz) => [x, y, z, (xy, xz, yz)]\n",
    "# takeoff~landing까지 한 세션\n",
    "# 각 비행마다 하나의 시퀀스로 분리 -> 시퀀스 길이가 다 다르면 패딩 적용\n",
    "# 입출력 슬라이딩 윈도우 (e.g. 10개의 timestep 입력 -> 3개 timestep 예측)\n",
    "\n",
    "\n",
    "##1. ulog2csv\n",
    "# 여러 개의 csv가 나오면 ‘vehicle_local_position_0’, ‘vehicle_attitude_0’ 등 주요 토픽 파일 선택\n",
    "#### 어 여기서 좋은 생각: 궤적 예측할 때 위치만 넣는 게 아니라 attitude 값도 넣으면 더 좋을 것 같은데????????????????\n",
    "# 현재 위치 + 현재 자세값... 와 이거지\n",
    "\n",
    "##2. csv -> dataframe 로딩\n",
    "# 또는 주요 위치, 속도, 타임스탬프 등만 사용\n",
    "##3. LSTM input 데이터 구조로 전처리\n",
    "# 필요 컬럼만 추출: timestamp, x, y, (z), (vx, vy, vz)\n",
    "# 시계열 정렬/슬라이딩 윈도우/정규화 등 단계 적용\n"
   ]
  }
 ],
 "metadata": {
  "kernelspec": {
   "display_name": "project1",
   "language": "python",
   "name": "python3"
  },
  "language_info": {
   "codemirror_mode": {
    "name": "ipython",
    "version": 3
   },
   "file_extension": ".py",
   "mimetype": "text/x-python",
   "name": "python",
   "nbconvert_exporter": "python",
   "pygments_lexer": "ipython3",
   "version": "3.12.0"
  }
 },
 "nbformat": 4,
 "nbformat_minor": 5
}
